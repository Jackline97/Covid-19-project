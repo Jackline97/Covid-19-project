{
 "cells": [
  {
   "cell_type": "code",
   "execution_count": 45,
   "metadata": {},
   "outputs": [
    {
     "name": "stdout",
     "output_type": "stream",
     "text": [
      "The length of first doc is 35486\n",
      "['allcovid19.com', 'arubacovid.org', 'careforcovid19patients.com', 'caringthrucovid.com', 'carolinecovid19.com', 'cookingforcovid19.com', 'coronavirus-covid-19-cleaning.co.uk', 'coronavirusdiseasecovid19.com', 'covid-19-beheersmaatregelen.nl', 'covid-19-bescherming.nl']\n"
     ]
    }
   ],
   "source": [
    "f1 = open(\"covid-20200316\")\n",
    "line = f1.readline()\n",
    "All_list_1 = []\n",
    "\n",
    "num = 0\n",
    "while line: \n",
    "#     print(line[9:])                    \n",
    "    line = f1.readline() \n",
    "    if num > 0:\n",
    "        All_list_1.append(line[9:-1])\n",
    "    num+=1\n",
    "print(\"The length of first doc is\",len(All_list_1))\n",
    "f1.close()\n",
    "print(All_list_1[0:10])"
   ]
  },
  {
   "cell_type": "code",
   "execution_count": 46,
   "metadata": {},
   "outputs": [
    {
     "name": "stdout",
     "output_type": "stream",
     "text": [
      "The length of second doc is 6030\n",
      "['cookingincovidtimes.com', 'corona-covid19.de', 'coronavirus-covid-19-dashboard.online', 'coronaviruscovid19preparedness.com', 'covid-19-wuhan.com', 'covid-19clinics.com', 'covid-19diagnostics.com', 'covid-19help.info', 'covid-19labs.com', 'covid-19labtest.co.uk']\n"
     ]
    }
   ],
   "source": [
    "f2 = open(\"covid-20200309\")\n",
    "line = f2.readline()\n",
    "All_list_2 = []\n",
    "num = 0\n",
    "while line:                    \n",
    "    line = f2.readline() \n",
    "    if num > 0:\n",
    "        All_list_2.append(line[9:-1])\n",
    "    num+=1\n",
    "print(\"The length of second doc is\",len(All_list_2))\n",
    "f2.close()\n",
    "print(All_list_2[0:10])"
   ]
  },
  {
   "cell_type": "code",
   "execution_count": 47,
   "metadata": {},
   "outputs": [
    {
     "name": "stdout",
     "output_type": "stream",
     "text": [
      "The length of third doc is 10768\n",
      "['anticovid.xyz', 'anticovid19drugs.com', 'avoidcovid19.info', 'business-facebook-covid19.com', 'buycovidpen.com', 'carcovidupdates.org', 'coronavirus-covid2019-20.ru', 'covid-19-coronavirus.online', 'covid-19-predator.com', 'covid-19.aid.pl']\n"
     ]
    }
   ],
   "source": [
    "f3 = open(\"covid-20200313\")\n",
    "line = f3.readline()\n",
    "All_list_3 = []\n",
    "num = 0\n",
    "while line:                    \n",
    "    line = f3.readline() \n",
    "    if num > 0:\n",
    "        All_list_3.append(line[9:-1])\n",
    "    num+=1\n",
    "print(\"The length of third doc is\",len(All_list_3))\n",
    "f3.close()\n",
    "print(All_list_3[0:10])"
   ]
  },
  {
   "cell_type": "code",
   "execution_count": 48,
   "metadata": {},
   "outputs": [
    {
     "name": "stdout",
     "output_type": "stream",
     "text": [
      "The length of forth doc is 14572\n",
      "['againstcovid.com', 'ahcsaccovid19.com', 'anticovid-19.info', 'avoidcovid19.co.uk', 'avoidcovid19.uk', 'beatcovid19tees.com', 'cikcovid-19.global', 'corona-covid.de', 'coronavirus-covid.de', 'coronaviruscovid19.tk']\n"
     ]
    }
   ],
   "source": [
    "f4 = open(\"covid-20200314\")\n",
    "line = f4.readline()\n",
    "All_list_4 = []\n",
    "num = 0\n",
    "while line:                    \n",
    "    line = f4.readline() \n",
    "    if num > 0:\n",
    "        All_list_4.append(line[9:-1])\n",
    "    num+=1\n",
    "print(\"The length of forth doc is\",len(All_list_4))\n",
    "f4.close()\n",
    "print(All_list_4[0:10])"
   ]
  },
  {
   "cell_type": "code",
   "execution_count": 49,
   "metadata": {},
   "outputs": [
    {
     "name": "stdout",
     "output_type": "stream",
     "text": [
      "The length of fifth doc is 13518\n",
      "['911covid.com', 'abbotsfordcovidresponse.com', 'alcovid.net', 'apoyomutuocovid.com', 'bangkokcovid19.com', 'chatcovid.com', 'chatcovid19.com', 'coloradocovid19test.com', 'combatcovid.store', 'combatcovid19.store']\n"
     ]
    }
   ],
   "source": [
    "f5 = open(\"covid-20200315\")\n",
    "line = f5.readline()\n",
    "All_list_5 = []\n",
    "num = 0\n",
    "while line:                    \n",
    "    line = f5.readline() \n",
    "    if num > 0:\n",
    "        All_list_5.append(line[9:-1])\n",
    "    num+=1\n",
    "print(\"The length of fifth doc is\",len(All_list_5))\n",
    "f5.close()\n",
    "print(All_list_5[0:10])"
   ]
  },
  {
   "cell_type": "code",
   "execution_count": 50,
   "metadata": {},
   "outputs": [
    {
     "name": "stdout",
     "output_type": "stream",
     "text": [
      "The length of sixth doc is 29965\n",
      "['anticovid19.best', 'coronavirus-covid-19-dashboard.co.uk', 'coronavirus-covid-19-dashboard.com', 'coronavirus-covid-19-dashboard.info', 'coronavirus-covid-19-dashboard.org.uk', 'coronavirus-covid-19-dashboard.uk', 'covid-.la', 'covid-19.tw', 'covid-19.vn', 'covid-19cure.co.uk']\n"
     ]
    }
   ],
   "source": [
    "f6 = open(\"covid-20200311\")\n",
    "line = f6.readline()\n",
    "All_list_6 = []\n",
    "num = 0\n",
    "while line:                    \n",
    "    line = f6.readline() \n",
    "    if num > 0:\n",
    "        All_list_6.append(line[9:-1])\n",
    "    num+=1\n",
    "print(\"The length of sixth doc is\",len(All_list_6))\n",
    "f6.close()\n",
    "print(All_list_6[0:10])"
   ]
  },
  {
   "cell_type": "code",
   "execution_count": 51,
   "metadata": {},
   "outputs": [
    {
     "name": "stdout",
     "output_type": "stream",
     "text": [
      "The length of seventh doc is 18112\n",
      "['controlcovid19.com', 'covid-19-impfung.eu', 'covid-19.cat', 'covid-19anxietyrelief.com', 'covid-19memorial.com', 'covid-19memorial.net', 'covid-19news.ru', 'covid-19odszkodowania.pl', 'covid-19odszkodowanie.pl', 'covid-19pandemic.net']\n"
     ]
    }
   ],
   "source": [
    "f7 = open(\"covid-20200312\")\n",
    "line = f7.readline()\n",
    "All_list_7 = []\n",
    "num = 0\n",
    "while line:                    \n",
    "    line = f7.readline() \n",
    "    if num > 0:\n",
    "        All_list_7.append(line[9:-1])\n",
    "    num+=1\n",
    "print(\"The length of seventh doc is\",len(All_list_7))\n",
    "f7.close()\n",
    "print(All_list_7[0:10])"
   ]
  },
  {
   "cell_type": "code",
   "execution_count": 8,
   "metadata": {},
   "outputs": [
    {
     "name": "stdout",
     "output_type": "stream",
     "text": [
      "The length of eighth doc is 136885\n",
      "['covid-19-wuhan.com', 'covid-19clinics.com', 'covid-19diagnostics.com', 'covid-19help.info', 'covid-19labs.com', 'covid-19labtest.co.uk', 'covid-19selftestkit.com', 'covid-19uk.com', 'covid-2019.de', 'covid19-hack.tech', 'covid19-safety.com', 'covid19.nl', 'covid19africa.com', 'covid19alerts.org', 'covid19antiviral.com', 'covid19application.com', 'covid19cr.com', 'covid19crowd.com', 'covid19delivery.com', 'covid19diagnostics.com', 'covid19drone.com', 'covid19dronedelivery.com', 'covid19economics.com', 'covid19finance.com', 'covid19france.com', 'covid19injuries.com', 'covid19injury.com', 'covid19ph.com', 'covid19pizza.com', 'covid19pneumonia.com', 'covid19product.com', 'covid19pt.pt', 'covid19rest.com', 'covid19restaurant.com', 'covid19retroviral.com', 'covid19sa.com', 'covid19test.ca', 'covid19uv.com', 'covid19versicherung.eu', 'covid19war.com', 'covid19who.com', 'coronavirus-covid19.ourhound.com', 'coronavirus-tracker-covid-19.cheat-hacks.com', 'coronaviruscovid-19.ru', 'covid-19-crisis.eu', 'covid-19-facts.com', 'covid-19-selftestkit.com', 'covid-19-testing.com', 'covid-19.1life.com', 'covid-19.rentals', 'covid-19.training', 'covid-19.uwmedicine.org', 'covid-19.wfsj-briefing.org', 'covid-19ac.org', 'covid-19cure.shop', 'covid-19cure.world', 'covid-19facts.com.ipaddress.com', 'covid-19health.care', 'covid-19health.center', 'covid-19health.expert', 'covid-19health.solutions', 'covid-19health.systems', 'covid-19health.technology', 'covid-19map.com.ipaddress.com', 'covid-19quarantine.com', 'covid-19testcenters.com', 'covid-19training.com', 'covid-19v2.com', 'covid-19virus.us', 'covid-19viruskiller.com', 'covid-2019.pl.multi.surbl.org', 'covid19-antiretrovirals.com', 'covid19-chronicle.com.clearwebstats.com', 'covid19-corona.de', 'covid19-coronavirus-map.com', 'covid19-kanagawa.netlify.com', 'covid19-legal.com', 'covid19-losgistics.com', 'covid19-map.uk', 'covid19-nieuws.nl', 'covid19-response.com', 'covid19-retrovirus.com', 'covid19-spread.com', 'covid19-sweden.rala.life', 'covid19-test.online', 'covid19-tracking.com', 'covid19.africa', 'covid19.archkl.org', 'covid19.cdc.gov.sa', 'covid19.chamberlains.studio', 'covid19.dasycloud.com', 'covid19.fuellabstudio.com', 'covid19.klick.com', 'covid19.locale.ai', 'covid19.mirkenstein.com', 'covid19.muangthai.co.th', 'covid19.nguy.dev', 'covid19.opensourc.es', 'covid19.rizzetto.com', 'covid19.stadtbuehl.de']\n"
     ]
    }
   ],
   "source": [
    "f8 = open(\"spycloud-covid-19-analysis-data_20200327/all-covid-hostnames-unique_2020-03-27.txt\")\n",
    "line = f8.readline()\n",
    "All_list_8 = []\n",
    "num = 0\n",
    "while line:                    \n",
    "    line = f8.readline() \n",
    "    if num > 0:\n",
    "        All_list_8.append(line[:-1])\n",
    "    num+=1\n",
    "print(\"The length of eighth doc is\",len(All_list_8))\n",
    "f8.close()\n",
    "print(All_list_8[0:100])"
   ]
  },
  {
   "cell_type": "code",
   "execution_count": 9,
   "metadata": {},
   "outputs": [
    {
     "name": "stdout",
     "output_type": "stream",
     "text": [
      "The length of positive label is 97\n",
      "['app.contracovid.com.br', 'auxilio.caixa.gov.br', 'bag-coronavirus.ch', 'bag-coronavirus.ch', 'block-covid.org', 'campanhacoronavirus.barro.ce.gov.br', 'ciis.fmrp.usp.br', 'co19.oracle.com', 'combateaocoronavirus.feira.br', 'contracovid.com.br', 'corona-data.ch', 'corona-stats.co.za', 'coronamadrid.com', 'coronavirus.alemparaiba.mg.gov.br', 'coronavirus.amazonas.am.gov.br', 'coronavirus.ceara.gov.br', 'coronavirus.cl', 'coronavirus.datafree.co', 'coronavirus.es', 'coronavirus.es.gov.br', 'coronavirus.fapce.edu.br', 'coronavirus.gob.es', 'coronavirus.informa.poli.ufrj.br', 'coronavirus.itaborai.rj.gov.br', 'coronavirus.jhu.edu', 'coronavirus.ms.gov.br', 'coronavirus.navirai.ms.gov.br', 'coronavirus.pr.gov.br', 'coronavirus.pucgoias.edu.br', 'coronavirus.rj.gov.br', 'coronavirus.ro.gov.br', 'coronavirus.saude.gov.br', 'coronavirus.sc.gov.br', 'coronavirus.to.gov.br', 'covid-19-1-newhavenct.hub.arcgis.com', 'covid-19.es', 'covid-19.gob.es', 'covid-19.iglocska.eu', 'covid-calc.org', 'covid-misp.ncsc.gov.ie', 'covid.apollo247.com', 'covid.saude.gov.br', 'covid19-brazil-api.now.sh', 'covid19-phwstatement.nhs.wales', 'covid19.criciuma.sc.gov.br', 'covid19.doisvizinhos.pr.gov.br', 'covid19.es', 'covid19.figshare.com', 'covid19.gob.es', 'covid19.govt.nz', 'covid19.ifnoar.com.br', 'covid19.lapig.iesa.ufg.br', 'covid19.nhp.gov.in', 'covid19.oracle.com', 'covid19.unimedsudoeste.com.br', 'covid19healthbot.cdc.gov', 'covid19india.org', 'covid19japan.com', 'covid19nasfavelas.meurio.org.br', 'covid19sa.org', 'covidcuritiba.com.br', 'cucovid19.ie', 'foph-coronavirus.ch', 'gov.ie', 'hcacovid19form.com', 'hcacovidresearch.com', 'hispabot-covid19.ai', 'hispabot-covid19.app', 'hispabot-covid19.es', 'hispabot-covid19.eu', 'hispabot-covid19.gob.es', 'hispabot-covid19.net', 'hispabot-covid19.org', 'hispabotcovid19.ai', 'hispabotcovid19.app', 'hispabotcovid19.es', 'hispabotcovid19.eu', 'hispabotcovid19.gob.es', 'hispabotcovid19.net', 'hispabotcovid19.org', 'hsecovid19.ie', 'info-coronavirus.be', 'juntoscontracoronavirus.com.br', 'ncov2019.live', 'novocoronavirus.recife.pe.gov.br', 'ofsp-coronavirus.ch', 'pecontracoronavirus.pe.gov.br', 'sacoronavirus.co.za', 'saolucascoronavirus.com.br', 'suzanocoronavirus.com.br', 'ufsp-coronavirus.ch', 'unimedcontracoronavirus.com.br', 'vassourascontraocorona.com.br', 'viruscorona.cl', 'vpncovid.sicredi.com.br', 'www.contracovid.com.br', '']\n"
     ]
    }
   ],
   "source": [
    "f9 = open(\"covid19-related-master/whitelist-domains.txt\")\n",
    "line = f9.readline()\n",
    "white1 = []\n",
    "num = 0\n",
    "while line:                    \n",
    "    line = f9.readline() \n",
    "    if num > 0:\n",
    "        white1.append(line[:-1])\n",
    "    num+=1\n",
    "print(\"The length of positive label is\",len(white1))\n",
    "print(white1)\n",
    "f9.close()"
   ]
  },
  {
   "cell_type": "code",
   "execution_count": 10,
   "metadata": {},
   "outputs": [
    {
     "name": "stdout",
     "output_type": "stream",
     "text": [
      "  % Total    % Received % Xferd  Average Speed   Time    Time     Time  Current\n",
      "                                 Dload  Upload   Total   Spent    Left  Speed\n",
      "100   99k  100   99k    0     0   166k      0 --:--:-- --:--:-- --:--:--  166k\n"
     ]
    }
   ],
   "source": [
    "!curl \"https://zonecruncher.com/qname-monitor/qname?q=gov.%3F%3F&token=crimeware000zetalytics640sharing&ruleID=\" > govdomin1.json"
   ]
  },
  {
   "cell_type": "code",
   "execution_count": 11,
   "metadata": {},
   "outputs": [
    {
     "name": "stdout",
     "output_type": "stream",
     "text": [
      "  % Total    % Received % Xferd  Average Speed   Time    Time     Time  Current\n",
      "                                 Dload  Upload   Total   Spent    Left  Speed\n",
      "100  102k  100  102k    0     0   148k      0 --:--:-- --:--:-- --:--:--  148k\n"
     ]
    }
   ],
   "source": [
    "!curl \"https://zonecruncher.com/qname-monitor/qname?q=gov&token=crimeware000zetalytics640sharing&ruleID=\" > govdomin2.json"
   ]
  },
  {
   "cell_type": "code",
   "execution_count": 12,
   "metadata": {},
   "outputs": [
    {
     "name": "stdout",
     "output_type": "stream",
     "text": [
      "  % Total    % Received % Xferd  Average Speed   Time    Time     Time  Current\n",
      "                                 Dload  Upload   Total   Spent    Left  Speed\n",
      "100  8027  100  8027    0     0  27775      0 --:--:-- --:--:-- --:--:-- 27775\n"
     ]
    }
   ],
   "source": [
    "!curl \"https://zonecruncher.com/qname-monitor/qname?q=mil.%3F%3F&token=crimeware000zetalytics640sharing&ruleID=\" > govdomin3.json"
   ]
  },
  {
   "cell_type": "code",
   "execution_count": 13,
   "metadata": {},
   "outputs": [
    {
     "name": "stdout",
     "output_type": "stream",
     "text": [
      "  % Total    % Received % Xferd  Average Speed   Time    Time     Time  Current\n",
      "                                 Dload  Upload   Total   Spent    Left  Speed\n",
      "100  103k  100  103k    0     0   161k      0 --:--:-- --:--:-- --:--:--  161k:--:-- --:--:-- --:--:--     0\n"
     ]
    }
   ],
   "source": [
    "!curl \"https://zonecruncher.com/qname-monitor/qname?q=br&token=crimeware000zetalytics640sharing&ruleID=\" > govdomin4.json"
   ]
  },
  {
   "cell_type": "code",
   "execution_count": 14,
   "metadata": {},
   "outputs": [
    {
     "name": "stdout",
     "output_type": "stream",
     "text": [
      "  % Total    % Received % Xferd  Average Speed   Time    Time     Time  Current\n",
      "                                 Dload  Upload   Total   Spent    Left  Speed\n",
      "100  109k  100  109k    0     0   160k      0 --:--:-- --:--:-- --:--:--  160k\n"
     ]
    }
   ],
   "source": [
    "!curl \"https://zonecruncher.com/qname-monitor/qname?q=edu&token=crimeware000zetalytics640sharing&ruleID=\" > govdomin5.json"
   ]
  },
  {
   "cell_type": "code",
   "execution_count": 15,
   "metadata": {},
   "outputs": [
    {
     "name": "stdout",
     "output_type": "stream",
     "text": [
      "  % Total    % Received % Xferd  Average Speed   Time    Time     Time  Current\n",
      "                                 Dload  Upload   Total   Spent    Left  Speed\n",
      "100  107k  100  107k    0     0   138k      0 --:--:-- --:--:-- --:--:--  138k\n"
     ]
    }
   ],
   "source": [
    "!curl \"https://zonecruncher.com/qname-monitor/qname?q=edu.%3F%3F&token=crimeware000zetalytics640sharing&ruleID=\"> govdomin6.json"
   ]
  },
  {
   "cell_type": "code",
   "execution_count": 16,
   "metadata": {},
   "outputs": [
    {
     "name": "stdout",
     "output_type": "stream",
     "text": [
      "600\n"
     ]
    }
   ],
   "source": [
    "import json\n",
    "import demjson\n",
    "white2 = []\n",
    "with open(\"govdomin1.json\") as f:\n",
    "    data = json.load(f)\n",
    "for i in data['results']:\n",
    "    white2.append(i['qname'])\n",
    "    white2.append(i['domain'])\n",
    "print(len(white2))"
   ]
  },
  {
   "cell_type": "code",
   "execution_count": 17,
   "metadata": {},
   "outputs": [
    {
     "name": "stdout",
     "output_type": "stream",
     "text": [
      "600\n"
     ]
    }
   ],
   "source": [
    "white3 = []\n",
    "with open(\"govdomin2.json\") as f:\n",
    "    data2 = json.load(f)\n",
    "for i in data2['results']:\n",
    "    white3.append(i['qname'])\n",
    "    white3.append(i['domain'])\n",
    "print(len(white3))"
   ]
  },
  {
   "cell_type": "code",
   "execution_count": 18,
   "metadata": {},
   "outputs": [
    {
     "name": "stdout",
     "output_type": "stream",
     "text": [
      "44\n"
     ]
    }
   ],
   "source": [
    "white4 = []\n",
    "with open(\"govdomin3.json\") as f:\n",
    "    data3 = json.load(f)\n",
    "for i in data3['results']:\n",
    "    white4.append(i['qname'])\n",
    "    white4.append(i['domain'])\n",
    "print(len(white4))"
   ]
  },
  {
   "cell_type": "code",
   "execution_count": 19,
   "metadata": {},
   "outputs": [
    {
     "name": "stdout",
     "output_type": "stream",
     "text": [
      "600\n"
     ]
    }
   ],
   "source": [
    "white5 = []\n",
    "with open(\"govdomin4.json\") as f:\n",
    "    data4 = json.load(f)\n",
    "for i in data4['results']:\n",
    "    white5.append(i['qname'])\n",
    "    white5.append(i['domain'])\n",
    "print(len(white5))"
   ]
  },
  {
   "cell_type": "code",
   "execution_count": 20,
   "metadata": {},
   "outputs": [
    {
     "name": "stdout",
     "output_type": "stream",
     "text": [
      "600\n"
     ]
    }
   ],
   "source": [
    "white6 = []\n",
    "with open(\"govdomin5.json\") as f:\n",
    "    data5 = json.load(f)\n",
    "for i in data5['results']:\n",
    "    white6.append(i['qname'])\n",
    "    white6.append(i['domain'])\n",
    "print(len(white6))"
   ]
  },
  {
   "cell_type": "code",
   "execution_count": 21,
   "metadata": {},
   "outputs": [
    {
     "name": "stdout",
     "output_type": "stream",
     "text": [
      "600\n"
     ]
    }
   ],
   "source": [
    "white7 = []\n",
    "with open(\"govdomin6.json\") as f:\n",
    "    data6 = json.load(f)\n",
    "for i in data6['results']:\n",
    "    white7.append(i['qname'])\n",
    "    white7.append(i['domain'])\n",
    "print(len(white7))"
   ]
  },
  {
   "cell_type": "code",
   "execution_count": 22,
   "metadata": {},
   "outputs": [
    {
     "name": "stdout",
     "output_type": "stream",
     "text": [
      "all unique white list length is 600\n"
     ]
    }
   ],
   "source": [
    "import numpy as np\n",
    "White_all = white1 + white2 + white3 + white4 + white5 + white6 + white7\n",
    "White_all = np.array(White_all)\n",
    "White_all = np.unique(White_all)\n",
    "print(\"all unique white list length is\",len(White_all))"
   ]
  },
  {
   "cell_type": "code",
   "execution_count": 23,
   "metadata": {},
   "outputs": [
    {
     "name": "stdout",
     "output_type": "stream",
     "text": [
      "all list length is 265336\n"
     ]
    }
   ],
   "source": [
    "List_all = All_list_1 + All_list_2 + All_list_3 + All_list_4 + All_list_5 + All_list_6 + All_list_7 + All_list_8\n",
    "print(\"all list length is\",len(List_all))"
   ]
  },
  {
   "cell_type": "code",
   "execution_count": 24,
   "metadata": {},
   "outputs": [
    {
     "name": "stdout",
     "output_type": "stream",
     "text": [
      "The length of unique of unique list is 245886\n"
     ]
    }
   ],
   "source": [
    "List_all = np.array(List_all)\n",
    "List_all = np.unique(List_all)\n",
    "print(\"The length of unique of unique list is\",len(List_all))\n",
    "List_all = np.delete(List_all,0)\n",
    "White_all = np.delete(White_all,0)"
   ]
  },
  {
   "cell_type": "code",
   "execution_count": 25,
   "metadata": {},
   "outputs": [
    {
     "name": "stdout",
     "output_type": "stream",
     "text": [
      "The number of Freenom top level domain is 1044\n",
      "The number of Freenom top level domain in whitelist is 0\n"
     ]
    }
   ],
   "source": [
    "Freenom_top_level_domain = []\n",
    "Freenom_top_level_domain_white = []\n",
    "for i in List_all:\n",
    "    if i[-2:] == 'ml':\n",
    "        Freenom_top_level_domain.append(1)\n",
    "    elif i[-2:] == 'cf':\n",
    "        Freenom_top_level_domain.append(1)\n",
    "    elif i[-2:] == 'gq':\n",
    "        Freenom_top_level_domain.append(1)\n",
    "    elif i[-2:] == 'tk':\n",
    "        Freenom_top_level_domain.append(1)\n",
    "    elif i[-2:] == 'ga':\n",
    "        Freenom_top_level_domain.append(1)\n",
    "    else:\n",
    "        Freenom_top_level_domain.append(0)\n",
    "        \n",
    "for i in White_all:\n",
    "    if i[-2:] == 'ml':\n",
    "        Freenom_top_level_domain_white.append(1)\n",
    "    elif i[-2:] == 'cf':\n",
    "        Freenom_top_level_domain_white.append(1)\n",
    "    elif i[-2:] == 'gq':\n",
    "        Freenom_top_level_domain_white.append(1)\n",
    "    elif i[-2:] == 'tk':\n",
    "        Freenom_top_level_domain_white.append(1)\n",
    "    elif i[-2:] == 'ga':\n",
    "        Freenom_top_level_domain_white.append(1)\n",
    "    else:\n",
    "        Freenom_top_level_domain_white.append(0)\n",
    "\n",
    "\n",
    "print(\"The number of Freenom top level domain is\",Freenom_top_level_domain.count(1))\n",
    "print(\"The number of Freenom top level domain in whitelist is\",Freenom_top_level_domain_white.count(1))"
   ]
  },
  {
   "cell_type": "code",
   "execution_count": 26,
   "metadata": {},
   "outputs": [],
   "source": [
    "# According to https://blogs.akamai.com/2019/10/a-view-into-top-level-domain-tld-abuse.html?utm_source=feedburner&utm_medium=feed&utm_campaign=Feed%3A+TheAkamaiBlog+%28The+Akamai+Blog%29\n",
    "# According to https://www.anomali.com/blog/abusing-the-mali-cctld-ml-to-target-dutch-organisations\n",
    "Previous_malicious_top_level_domain_TLD = []\n",
    "Previous_malicious_top_level_domain_TLD_white = []\n",
    "for i in List_all:\n",
    "    if i[-2:] == 'ml':\n",
    "        Previous_malicious_top_level_domain_TLD.append(1)\n",
    "    elif i[-2:] == 'cf':\n",
    "        Previous_malicious_top_level_domain_TLD.append(1)\n",
    "    elif i[-2:] == 'so':\n",
    "        Previous_malicious_top_level_domain_TLD.append(1)\n",
    "    elif i[-4:] == 'loan':\n",
    "        Previous_malicious_top_level_domain_TLD.append(1)\n",
    "    elif i[-5:] == 'tokyo':\n",
    "        Previous_malicious_top_level_domain_TLD.append(1)\n",
    "    elif i[-5:] == 'trade':\n",
    "        Previous_malicious_top_level_domain_TLD.append(1)\n",
    "    elif i[-6:] == 'stream':\n",
    "        Previous_malicious_top_level_domain_TLD.append(1)\n",
    "    elif i[-3:] == 'bid':\n",
    "        Previous_malicious_top_level_domain_TLD.append(1)\n",
    "    elif i[-3:] == 'icu':\n",
    "        Previous_malicious_top_level_domain_TLD.append(1)\n",
    "    elif i[-3:] == 'gdn':\n",
    "        Previous_malicious_top_level_domain_TLD.append(1)\n",
    "    elif i[-3:] == 'win':\n",
    "        Previous_malicious_top_level_domain_TLD.append(1)\n",
    "    elif i[-4:] == 'work':\n",
    "        Previous_malicious_top_level_domain_TLD.append(1)\n",
    "    elif i[-4:] == 'desi':\n",
    "        Previous_malicious_top_level_domain_TLD.append(1)\n",
    "    elif i[-4:] == 'pics':\n",
    "        Previous_malicious_top_level_domain_TLD.append(1)\n",
    "    elif i[-2:] == 'gq':\n",
    "        Previous_malicious_top_level_domain_TLD.append(1)\n",
    "    elif i[-2:] == 'tk':\n",
    "        Previous_malicious_top_level_domain_TLD.append(1)\n",
    "    elif i[-2:] == 'vg':\n",
    "        Previous_malicious_top_level_domain_TLD.append(1)\n",
    "    elif i[-2:] == 'ga':\n",
    "        Previous_malicious_top_level_domain_TLD.append(1)\n",
    "    elif i[-2:] == 'to':\n",
    "        Previous_malicious_top_level_domain_TLD.append(1)\n",
    "    elif i[-2:] == 'cc':\n",
    "        Previous_malicious_top_level_domain_TLD.append(1)\n",
    "    elif i[-2:] == 'hk':\n",
    "        Previous_malicious_top_level_domain_TLD.append(1)\n",
    "    elif i[-2:] == 'pw':\n",
    "        Previous_malicious_top_level_domain_TLD.append(1)\n",
    "    elif i[-2:] == 'fm':\n",
    "        Previous_malicious_top_level_domain_TLD.append(1)\n",
    "    elif i[-2:] == 'la':\n",
    "        Previous_malicious_top_level_domain_TLD.append(1)\n",
    "    else:\n",
    "        Previous_malicious_top_level_domain_TLD.append(0)\n",
    "\n",
    "for i in White_all:\n",
    "    if i[-2:] == 'ml':\n",
    "        Previous_malicious_top_level_domain_TLD_white.append(1)\n",
    "    elif i[-2:] == 'cf':\n",
    "        Previous_malicious_top_level_domain_TLD_white.append(1)\n",
    "    elif i[-2:] == 'so':\n",
    "        Previous_malicious_top_level_domain_TLD_white.append(1)\n",
    "    elif i[-4:] == 'loan':\n",
    "        Previous_malicious_top_level_domain_TLD_white.append(1)\n",
    "    elif i[-5:] == 'tokyo':\n",
    "        Previous_malicious_top_level_domain_TLD_white.append(1)\n",
    "    elif i[-5:] == 'trade':\n",
    "        Previous_malicious_top_level_domain_TLD_white.append(1)\n",
    "    elif i[-6:] == 'stream':\n",
    "        Previous_malicious_top_level_domain_TLD_white.append(1)\n",
    "    elif i[-3:] == 'bid':\n",
    "        Previous_malicious_top_level_domain_TLD_white.append(1)\n",
    "    elif i[-3:] == 'icu':\n",
    "        Previous_malicious_top_level_domain_TLD_white.append(1)\n",
    "    elif i[-3:] == 'gdn':\n",
    "        Previous_malicious_top_level_domain_TLD_white.append(1)\n",
    "    elif i[-3:] == 'win':\n",
    "        Previous_malicious_top_level_domain_TLD_white.append(1)\n",
    "    elif i[-4:] == 'work':\n",
    "        Previous_malicious_top_level_domain_TLD_white.append(1)\n",
    "    elif i[-4:] == 'desi':\n",
    "        Previous_malicious_top_level_domain_TLD_white.append(1)\n",
    "    elif i[-4:] == 'pics':\n",
    "        Previous_malicious_top_level_domain_TLD_white.append(1)\n",
    "    elif i[-2:] == 'gq':\n",
    "        Previous_malicious_top_level_domain_TLD_white.append(1)\n",
    "    elif i[-2:] == 'tk':\n",
    "        Previous_malicious_top_level_domain_TLD_white.append(1)\n",
    "    elif i[-2:] == 'vg':\n",
    "        Previous_malicious_top_level_domain_TLD_white.append(1)\n",
    "    elif i[-2:] == 'ga':\n",
    "        Previous_malicious_top_level_domain_TLD_white.append(1)\n",
    "    elif i[-2:] == 'to':\n",
    "        Previous_malicious_top_level_domain_TLD_white.append(1)\n",
    "    elif i[-2:] == 'cc':\n",
    "        Previous_malicious_top_level_domain_TLD_white.append(1)\n",
    "    elif i[-2:] == 'hk':\n",
    "        Previous_malicious_top_level_domain_TLD_white.append(1)\n",
    "    elif i[-2:] == 'pw':\n",
    "        Previous_malicious_top_level_domain_TLD_white.append(1)\n",
    "    elif i[-2:] == 'fm':\n",
    "        Previous_malicious_top_level_domain_TLD_white.append(1)\n",
    "    elif i[-2:] == 'la':\n",
    "        Previous_malicious_top_level_domain_TLD_white.append(1)\n",
    "    else:\n",
    "        Previous_malicious_top_level_domain_TLD_white.append(0)\n",
    "\n",
    "        "
   ]
  },
  {
   "cell_type": "code",
   "execution_count": 27,
   "metadata": {},
   "outputs": [
    {
     "name": "stdout",
     "output_type": "stream",
     "text": [
      "The number of most abused TLD is 2062\n",
      "The number of most abused TLD in white list is 0\n"
     ]
    }
   ],
   "source": [
    "print(\"The number of most abused TLD is\",Previous_malicious_top_level_domain_TLD.count(1))\n",
    "\n",
    "print(\"The number of most abused TLD in white list is\",Previous_malicious_top_level_domain_TLD_white.count(1))"
   ]
  },
  {
   "cell_type": "code",
   "execution_count": 28,
   "metadata": {},
   "outputs": [
    {
     "name": "stdout",
     "output_type": "stream",
     "text": [
      "Requirement already satisfied: wordninja in /Users/jackline/miniconda3/lib/python3.7/site-packages (2.0.0)\r\n"
     ]
    }
   ],
   "source": [
    "!pip install wordninja"
   ]
  },
  {
   "cell_type": "code",
   "execution_count": 29,
   "metadata": {},
   "outputs": [
    {
     "name": "stdout",
     "output_type": "stream",
     "text": [
      "The produced word ratio list's length is  245885\n",
      "The sample data is [0.08, 0.09090909090909091, 0.1, 0.1111111111111111, 0.08333333333333333, 0.08333333333333333]\n"
     ]
    }
   ],
   "source": [
    "import wordninja\n",
    "from math import log\n",
    "\n",
    "# Build a cost dictionary, assuming Zipf's law and cost = -math.log(probability).\n",
    "# words = open(\"words-by-frequency.txt\").read().split()\n",
    "# wordcost = dict((k, log((i+1)*log(len(words)))) for i,k in enumerate(words))\n",
    "# maxword = max(len(x) for x in words)\n",
    "\n",
    "def infer_spaces(s):\n",
    "    \"\"\"Uses dynamic programming to infer the location of spaces in a string\n",
    "    without spaces.\"\"\"\n",
    "\n",
    "    # Find the best match for the i first characters, assuming cost has\n",
    "    # been built for the i-1 first characters.\n",
    "    # Returns a pair (match_cost, match_length).\n",
    "    def best_match(i):\n",
    "        candidates = enumerate(reversed(cost[max(0, i-maxword):i]))\n",
    "        return min((c + wordcost.get(s[i-k-1:i], 9e999), k+1) for k,c in candidates)\n",
    "\n",
    "    # Build the cost array.\n",
    "    cost = [0]\n",
    "    for i in range(1,len(s)+1):\n",
    "        c,k = best_match(i)\n",
    "        cost.append(c)\n",
    "\n",
    "    # Backtrack to recover the minimal-cost string.\n",
    "    out = []\n",
    "    i = len(s)\n",
    "    while i>0:\n",
    "        c,k = best_match(i)\n",
    "        assert c == cost[i]\n",
    "        out.append(s[i-k:i])\n",
    "        i -= k\n",
    "\n",
    "    return \" \".join(reversed(out))\n",
    "\n",
    "# This would take some time\n",
    "word_dic = []\n",
    "number_mark = []\n",
    "Name_length = []\n",
    "\n",
    "word_dic_white = []\n",
    "number_mark_white = []\n",
    "Name_length_white = []\n",
    "\n",
    "\n",
    "\n",
    "for i in White_all:\n",
    "#     reduce the prefix and sufix\n",
    "    original_len = len(i) - 2 \n",
    "    Each_List = wordninja.split(i)\n",
    "    Name_length_white.append(len(Each_List))\n",
    "    stand = 0\n",
    "    for j in Each_List:\n",
    "        if str.isdigit(j) is True:\n",
    "            number_mark_white.append(1)\n",
    "            stand = 1\n",
    "        break\n",
    "    if stand==0:\n",
    "        number_mark_white.append(0)\n",
    "    longest_element = max([(len(x),x) for x in Each_List])\n",
    "    Ratio = len(longest_element)/original_len\n",
    "    word_dic_white.append(Ratio)\n",
    "\n",
    "\n",
    "\n",
    "\n",
    "\n",
    "for i in List_all:\n",
    "#     reduce the prefix and sufix\n",
    "    original_len = len(i) - 2 \n",
    "    Each_List = wordninja.split(i)\n",
    "    Name_length.append(len(Each_List))\n",
    "    stand = 0\n",
    "    for j in Each_List:\n",
    "        if str.isdigit(j) is True:\n",
    "            number_mark.append(1)\n",
    "            stand = 1\n",
    "        break\n",
    "    if stand==0:\n",
    "        number_mark.append(0)\n",
    "    longest_element = max([(len(x),x) for x in Each_List])\n",
    "    Ratio = len(longest_element)/original_len\n",
    "    word_dic.append(Ratio)\n",
    "print(\"The produced word ratio list's length is \",len(word_dic))\n",
    "print(\"The sample data is\",word_dic[0:6])"
   ]
  },
  {
   "cell_type": "code",
   "execution_count": 30,
   "metadata": {},
   "outputs": [
    {
     "data": {
      "text/plain": [
       "<Figure size 640x480 with 1 Axes>"
      ]
     },
     "metadata": {},
     "output_type": "display_data"
    }
   ],
   "source": [
    "from matplotlib import pyplot as plt \n",
    "plt.hist(word_dic,bins = 50,density=False,     \n",
    "                weights=None, cumulative=False, bottom=None,     \n",
    "                 align=u'left', orientation=u'vertical',     \n",
    "                rwidth=0.8, log=False, color=None, label=None, stacked=False)\n",
    "plt.title(\"Ratio of the longest English word\") \n",
    "plt.show()"
   ]
  },
  {
   "cell_type": "code",
   "execution_count": 31,
   "metadata": {},
   "outputs": [
    {
     "data": {
      "image/png": "[encoded data removed]",
      "text/plain": [
       "<Figure size 432x288 with 1 Axes>"
      ]
     },
     "metadata": {
      "needs_background": "light"
     },
     "output_type": "display_data"
    }
   ],
   "source": [
    "from matplotlib import pyplot as plt \n",
    "plt.hist(Name_length,bins = 50,density=False,     \n",
    "                weights=None, cumulative=False, bottom=None,     \n",
    "                histtype=u'bar', align=u'left', orientation=u'vertical',     \n",
    "                rwidth=0.8, log=False, color=None, label=None, stacked=False)\n",
    "plt.title(\"The Name length of domain\") \n",
    "plt.show()"
   ]
  },
  {
   "cell_type": "code",
   "execution_count": 32,
   "metadata": {},
   "outputs": [
    {
     "name": "stdout",
     "output_type": "stream",
     "text": [
      "The number of domains cotain symbol '-': 59263\n"
     ]
    }
   ],
   "source": [
    "Special_mark = []\n",
    "Special_mark_white = []\n",
    "for i in List_all:\n",
    "    if '-' in i:\n",
    "        Special_mark.append(1)\n",
    "    else:\n",
    "        Special_mark.append(0)\n",
    "for i in White_all:\n",
    "    if '-' in i:\n",
    "        Special_mark_white.append(1)\n",
    "    else:\n",
    "        Special_mark_white.append(0)\n",
    "print(\"The number of domains cotain symbol '-':\",Special_mark.count(1))"
   ]
  },
  {
   "cell_type": "code",
   "execution_count": 33,
   "metadata": {},
   "outputs": [
    {
     "name": "stdout",
     "output_type": "stream",
     "text": [
      "The number of domains cotain digit number: 7608\n"
     ]
    }
   ],
   "source": [
    "print(\"The number of domains cotain digit number:\",number_mark.count(1))"
   ]
  },
  {
   "cell_type": "code",
   "execution_count": 34,
   "metadata": {},
   "outputs": [],
   "source": [
    "sub_domain = []\n",
    "for i in List_all:\n",
    "    dot_num = i.count('.') \n",
    "    sub_domain.append(dot_num)\n",
    "sub_domain_white = []\n",
    "for i in White_all:\n",
    "    dot_num = i.count('.') \n",
    "    sub_domain_white.append(dot_num)"
   ]
  },
  {
   "cell_type": "code",
   "execution_count": 35,
   "metadata": {},
   "outputs": [
    {
     "data": {
      "image/png": "[encoded data removed]",
      "text/plain": [
       "<Figure size 432x288 with 1 Axes>"
      ]
     },
     "metadata": {
      "needs_background": "light"
     },
     "output_type": "display_data"
    }
   ],
   "source": [
    "from matplotlib import pyplot as plt \n",
    "plt.hist(sub_domain,bins = 10,range=(0,10))\n",
    "plt.title(\"Number of subdomains\") \n",
    "plt.show()"
   ]
  },
  {
   "cell_type": "code",
   "execution_count": 36,
   "metadata": {},
   "outputs": [
    {
     "name": "stdout",
     "output_type": "stream",
     "text": [
      "The number of domain contain IP adress is 6593\n"
     ]
    }
   ],
   "source": [
    "import re\n",
    "Contain_IP_Adress = []\n",
    "for i in List_all:\n",
    "    IP = re.findall(r\".\\d.\\d.\\d\",i)\n",
    "    if len(IP) == 0:\n",
    "        Contain_IP_Adress.append(0)\n",
    "    else:\n",
    "        Contain_IP_Adress.append(1)\n",
    "        \n",
    "Contain_IP_Adress_white = []\n",
    "for i in White_all:\n",
    "    IP = re.findall(r\".\\d.\\d.\\d\",i)\n",
    "    if len(IP) == 0:\n",
    "        Contain_IP_Adress_white.append(0)\n",
    "    else:\n",
    "        Contain_IP_Adress_white.append(1)\n",
    "print(\"The number of domain contain IP adress is\",Contain_IP_Adress.count(1))"
   ]
  },
  {
   "cell_type": "code",
   "execution_count": 37,
   "metadata": {},
   "outputs": [
    {
     "name": "stdout",
     "output_type": "stream",
     "text": [
      "245885\n",
      "245885\n",
      "245885\n",
      "245885\n",
      "245885\n",
      "245885\n",
      "245885\n",
      "245885\n"
     ]
    }
   ],
   "source": [
    "print(len(Freenom_top_level_domain))\n",
    "print(len(Previous_malicious_top_level_domain_TLD))\n",
    "print(len(word_dic))\n",
    "print(len(number_mark))\n",
    "print(len(Name_length))\n",
    "print(len(Special_mark))\n",
    "print(len(sub_domain))\n",
    "print(len(Contain_IP_Adress))"
   ]
  },
  {
   "cell_type": "code",
   "execution_count": 38,
   "metadata": {},
   "outputs": [],
   "source": [
    "import pandas as pd\n",
    "dict = {'Freenom_TLD':Freenom_top_level_domain,'Suspecious_TLD':Previous_malicious_top_level_domain_TLD,'Word_ratio':word_dic,\n",
    "       'Contain_number':number_mark,'Length_of_domain':Name_length,'Contain_dash':Special_mark,\n",
    "        'Number_of_sub_domain':sub_domain,'Contain_IP':Contain_IP_Adress}\n",
    "Unlabeled_data = pd.DataFrame(dict)"
   ]
  },
  {
   "cell_type": "code",
   "execution_count": 39,
   "metadata": {},
   "outputs": [],
   "source": [
    "dict2 = {'Freenom_TLD':Freenom_top_level_domain_white,'Suspecious_TLD':Previous_malicious_top_level_domain_TLD_white,'Word_ratio':word_dic_white,\n",
    "       'Contain_number':number_mark_white,'Length_of_domain':Name_length_white,'Contain_dash':Special_mark_white,\n",
    "        'Number_of_sub_domain':sub_domain_white,'Contain_IP':Contain_IP_Adress_white}\n",
    "white_data = pd.DataFrame(dict2)"
   ]
  },
  {
   "cell_type": "code",
   "execution_count": 40,
   "metadata": {},
   "outputs": [
    {
     "data": {
      "text/html": [
       "<div>\n",
       "<style scoped>\n",
       "    .dataframe tbody tr th:only-of-type {\n",
       "        vertical-align: middle;\n",
       "    }\n",
       "\n",
       "    .dataframe tbody tr th {\n",
       "        vertical-align: top;\n",
       "    }\n",
       "\n",
       "    .dataframe thead th {\n",
       "        text-align: right;\n",
       "    }\n",
       "</style>\n",
       "<table border=\"1\" class=\"dataframe\">\n",
       "  <thead>\n",
       "    <tr style=\"text-align: right;\">\n",
       "      <th></th>\n",
       "      <th>Freenom_TLD</th>\n",
       "      <th>Suspecious_TLD</th>\n",
       "      <th>Word_ratio</th>\n",
       "      <th>Contain_number</th>\n",
       "      <th>Length_of_domain</th>\n",
       "      <th>Contain_dash</th>\n",
       "      <th>Number_of_sub_domain</th>\n",
       "      <th>Contain_IP</th>\n",
       "    </tr>\n",
       "  </thead>\n",
       "  <tbody>\n",
       "    <tr>\n",
       "      <th>0</th>\n",
       "      <td>0</td>\n",
       "      <td>0</td>\n",
       "      <td>0.080000</td>\n",
       "      <td>1</td>\n",
       "      <td>4</td>\n",
       "      <td>0</td>\n",
       "      <td>2</td>\n",
       "      <td>0</td>\n",
       "    </tr>\n",
       "    <tr>\n",
       "      <th>1</th>\n",
       "      <td>0</td>\n",
       "      <td>0</td>\n",
       "      <td>0.090909</td>\n",
       "      <td>0</td>\n",
       "      <td>3</td>\n",
       "      <td>0</td>\n",
       "      <td>2</td>\n",
       "      <td>0</td>\n",
       "    </tr>\n",
       "    <tr>\n",
       "      <th>2</th>\n",
       "      <td>0</td>\n",
       "      <td>0</td>\n",
       "      <td>0.100000</td>\n",
       "      <td>0</td>\n",
       "      <td>4</td>\n",
       "      <td>0</td>\n",
       "      <td>2</td>\n",
       "      <td>0</td>\n",
       "    </tr>\n",
       "    <tr>\n",
       "      <th>3</th>\n",
       "      <td>0</td>\n",
       "      <td>0</td>\n",
       "      <td>0.111111</td>\n",
       "      <td>0</td>\n",
       "      <td>3</td>\n",
       "      <td>0</td>\n",
       "      <td>2</td>\n",
       "      <td>0</td>\n",
       "    </tr>\n",
       "    <tr>\n",
       "      <th>4</th>\n",
       "      <td>0</td>\n",
       "      <td>0</td>\n",
       "      <td>0.083333</td>\n",
       "      <td>0</td>\n",
       "      <td>4</td>\n",
       "      <td>0</td>\n",
       "      <td>2</td>\n",
       "      <td>0</td>\n",
       "    </tr>\n",
       "  </tbody>\n",
       "</table>\n",
       "</div>"
      ],
      "text/plain": [
       "   Freenom_TLD  Suspecious_TLD  Word_ratio  Contain_number  Length_of_domain  \\\n",
       "0            0               0    0.080000               1                 4   \n",
       "1            0               0    0.090909               0                 3   \n",
       "2            0               0    0.100000               0                 4   \n",
       "3            0               0    0.111111               0                 3   \n",
       "4            0               0    0.083333               0                 4   \n",
       "\n",
       "   Contain_dash  Number_of_sub_domain  Contain_IP  \n",
       "0             0                     2           0  \n",
       "1             0                     2           0  \n",
       "2             0                     2           0  \n",
       "3             0                     2           0  \n",
       "4             0                     2           0  "
      ]
     },
     "execution_count": 40,
     "metadata": {},
     "output_type": "execute_result"
    }
   ],
   "source": [
    "Unlabeled_data.head()"
   ]
  },
  {
   "cell_type": "code",
   "execution_count": 41,
   "metadata": {},
   "outputs": [
    {
     "data": {
      "text/html": [
       "<div>\n",
       "<style scoped>\n",
       "    .dataframe tbody tr th:only-of-type {\n",
       "        vertical-align: middle;\n",
       "    }\n",
       "\n",
       "    .dataframe tbody tr th {\n",
       "        vertical-align: top;\n",
       "    }\n",
       "\n",
       "    .dataframe thead th {\n",
       "        text-align: right;\n",
       "    }\n",
       "</style>\n",
       "<table border=\"1\" class=\"dataframe\">\n",
       "  <thead>\n",
       "    <tr style=\"text-align: right;\">\n",
       "      <th></th>\n",
       "      <th>Freenom_TLD</th>\n",
       "      <th>Suspecious_TLD</th>\n",
       "      <th>Word_ratio</th>\n",
       "      <th>Contain_number</th>\n",
       "      <th>Length_of_domain</th>\n",
       "      <th>Contain_dash</th>\n",
       "      <th>Number_of_sub_domain</th>\n",
       "      <th>Contain_IP</th>\n",
       "    </tr>\n",
       "  </thead>\n",
       "  <tbody>\n",
       "    <tr>\n",
       "      <th>0</th>\n",
       "      <td>0</td>\n",
       "      <td>0</td>\n",
       "      <td>0.100000</td>\n",
       "      <td>0</td>\n",
       "      <td>8</td>\n",
       "      <td>0</td>\n",
       "      <td>3</td>\n",
       "      <td>0</td>\n",
       "    </tr>\n",
       "    <tr>\n",
       "      <th>1</th>\n",
       "      <td>0</td>\n",
       "      <td>0</td>\n",
       "      <td>0.074074</td>\n",
       "      <td>0</td>\n",
       "      <td>10</td>\n",
       "      <td>0</td>\n",
       "      <td>3</td>\n",
       "      <td>0</td>\n",
       "    </tr>\n",
       "    <tr>\n",
       "      <th>2</th>\n",
       "      <td>0</td>\n",
       "      <td>0</td>\n",
       "      <td>0.153846</td>\n",
       "      <td>0</td>\n",
       "      <td>4</td>\n",
       "      <td>0</td>\n",
       "      <td>2</td>\n",
       "      <td>0</td>\n",
       "    </tr>\n",
       "    <tr>\n",
       "      <th>3</th>\n",
       "      <td>0</td>\n",
       "      <td>0</td>\n",
       "      <td>0.181818</td>\n",
       "      <td>0</td>\n",
       "      <td>5</td>\n",
       "      <td>1</td>\n",
       "      <td>2</td>\n",
       "      <td>0</td>\n",
       "    </tr>\n",
       "    <tr>\n",
       "      <th>4</th>\n",
       "      <td>0</td>\n",
       "      <td>0</td>\n",
       "      <td>0.222222</td>\n",
       "      <td>0</td>\n",
       "      <td>4</td>\n",
       "      <td>0</td>\n",
       "      <td>2</td>\n",
       "      <td>0</td>\n",
       "    </tr>\n",
       "  </tbody>\n",
       "</table>\n",
       "</div>"
      ],
      "text/plain": [
       "   Freenom_TLD  Suspecious_TLD  Word_ratio  Contain_number  Length_of_domain  \\\n",
       "0            0               0    0.100000               0                 8   \n",
       "1            0               0    0.074074               0                10   \n",
       "2            0               0    0.153846               0                 4   \n",
       "3            0               0    0.181818               0                 5   \n",
       "4            0               0    0.222222               0                 4   \n",
       "\n",
       "   Contain_dash  Number_of_sub_domain  Contain_IP  \n",
       "0             0                     3           0  \n",
       "1             0                     3           0  \n",
       "2             0                     2           0  \n",
       "3             1                     2           0  \n",
       "4             0                     2           0  "
      ]
     },
     "execution_count": 41,
     "metadata": {},
     "output_type": "execute_result"
    }
   ],
   "source": [
    "white_data.head()"
   ]
  },
  {
   "cell_type": "code",
   "execution_count": 42,
   "metadata": {
    "scrolled": false
   },
   "outputs": [],
   "source": [
    "Unlabeled_data.to_csv('unlabeled_data.csv',index=False,header=True)"
   ]
  },
  {
   "cell_type": "code",
   "execution_count": 43,
   "metadata": {},
   "outputs": [],
   "source": [
    "white_data.to_csv('whitelist_data.csv',index=False,header=True)"
   ]
  },
  {
   "cell_type": "code",
   "execution_count": null,
   "metadata": {},
   "outputs": [],
   "source": []
  }
 ],
 "metadata": {
  "kernelspec": {
   "display_name": "Python 3",
   "language": "python",
   "name": "python3"
  },
  "language_info": {
   "codemirror_mode": {
    "name": "ipython",
    "version": 3
   },
   "file_extension": ".py",
   "mimetype": "text/x-python",
   "name": "python",
   "nbconvert_exporter": "python",
   "pygments_lexer": "ipython3",
   "version": "3.7.4"
  }
 },
 "nbformat": 4,
 "nbformat_minor": 2
}
